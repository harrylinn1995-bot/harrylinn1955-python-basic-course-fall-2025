{
 "cells": [
  {
   "cell_type": "code",
   "execution_count": 2,
   "id": "a1fb3b6f",
   "metadata": {},
   "outputs": [
    {
     "name": "stdout",
     "output_type": "stream",
     "text": [
      "BMI: 22.857142857142858\n"
     ]
    }
   ],
   "source": [
    "def calculate_bmi(weight_kg, height_m):\n",
    "    \"\"\"\n",
    "    Calculates Body Mass Index (BMI).\n",
    "    \n",
    "    Args:\n",
    "        weight_kg (float): Weight in kilograms\n",
    "        height_m (float): Height in meters\n",
    "    \n",
    "    Returns:\n",
    "        float: BMI value\n",
    "    \"\"\"\n",
    "    return weight_kg / (height_m * height_m)\n",
    "result = calculate_bmi(70, 1.75)\n",
    "print(f\"BMI: {result}\")\n"
   ]
  },
  {
   "cell_type": "code",
   "execution_count": 1,
   "id": "a497719c",
   "metadata": {},
   "outputs": [],
   "source": [
    "def calculate_total_price(price, tax_percentage):\n",
    "    \"\"\"\n",
    "    Calculates total price including tax.\n",
    "    \n",
    "    Args:\n",
    "        price (float): Original price of the product\n",
    "        tax_percentage (float): Tax percentage (e.g., 20 for 20%)\n",
    "    \n",
    "    Returns:\n",
    "        float: Total price including tax\n",
    "    \"\"\"\n",
    "    tax_amount = price * (tax_percentage / 100)\n",
    "    return price + tax_amount\n"
   ]
  },
  {
   "cell_type": "code",
   "execution_count": null,
   "id": "3de2b49c",
   "metadata": {},
   "outputs": [],
   "source": [
    "def convert_currency(dollars, exchange_rate):\n",
    "    \"\"\"\n",
    "    Converts dollars to rubles using given exchange rate.\n",
    "    \n",
    "    Args:\n",
    "        dollars (float): Amount in dollars\n",
    "        exchange_rate (float): Exchange rate (rubles per dollar)\n",
    "    \n",
    "    Returns:\n",
    "        float: Amount in rubles\n",
    "    \"\"\"\n",
    "    return dollars * exchange_rate"
   ]
  },
  {
   "cell_type": "code",
   "execution_count": null,
   "id": "c6302754",
   "metadata": {},
   "outputs": [],
   "source": [
    "def calculate_rectangle_properties(length, width):\n",
    "    \"\"\"\n",
    "    Calculates area and perimeter of a rectangle.\n",
    "    \n",
    "    Args:\n",
    "        length (float): Length of the rectangle\n",
    "        width (float): Width of the rectangle\n",
    "    \n",
    "    Returns:\n",
    "        tuple: (area, perimeter)\n",
    "    \"\"\"\n",
    "    area = length * width\n",
    "    perimeter = 2 * (length + width)\n",
    "    return area, perimeter\n"
   ]
  },
  {
   "cell_type": "code",
   "execution_count": null,
   "id": "4ffa261b",
   "metadata": {},
   "outputs": [],
   "source": [
    "def calculate_deposit(initial_amount, annual_rate, years):\n",
    "    \"\"\"\n",
    "    Calculates final deposit amount with simple interest.\n",
    "    \n",
    "    Args:\n",
    "        initial_amount (float): Initial deposit amount\n",
    "        annual_rate (float): Annual interest rate (e.g., 5 for 5%)\n",
    "        years (int): Number of years\n",
    "    \n",
    "    Returns:\n",
    "        float: Final amount after simple interest\n",
    "    \"\"\"\n",
    "    interest = initial_amount * (annual_rate / 100) * years\n",
    "    return initial_amount + interest\n"
   ]
  },
  {
   "cell_type": "code",
   "execution_count": 2,
   "id": "fcaf3781",
   "metadata": {},
   "outputs": [],
   "source": [
    "def greet_user(username):\n",
    "    \"\"\"\n",
    "    Creates a greeting message for the user.\n",
    "    \n",
    "    Args:\n",
    "        username (str): The name of the user\n",
    "    \n",
    "    Returns:\n",
    "        str: Greeting message\n",
    "    \"\"\"\n",
    "    return f\"Hello, {username}!\"\n"
   ]
  },
  {
   "cell_type": "code",
   "execution_count": null,
   "id": "09e63d61",
   "metadata": {},
   "outputs": [],
   "source": [
    "def convert_time(hours):\n",
    "    \"\"\"\n",
    "    Converts hours to minutes and seconds.\n",
    "    \n",
    "    Args:\n",
    "        hours (float): Number of hours\n",
    "    \n",
    "    Returns:\n",
    "        tuple: (minutes, seconds)\n",
    "    \"\"\"\n",
    "    minutes = hours * 60\n",
    "    seconds = hours * 3600\n",
    "    return minutes, seconds\n"
   ]
  },
  {
   "cell_type": "code",
   "execution_count": null,
   "id": "b546022c",
   "metadata": {},
   "outputs": [],
   "source": [
    "def calculate_hypotenuse(a, b):\n",
    "    \"\"\"\n",
    "    Calculates the hypotenuse of a right triangle using Pythagorean theorem.\n",
    "    \n",
    "    Args:\n",
    "        a (float): First leg of the triangle\n",
    "        b (float): Second leg of the triangle\n",
    "    \n",
    "    Returns:\n",
    "        float: Length of the hypotenuse\n",
    "    \"\"\"\n",
    "    import math\n",
    "    return math.sqrt(a2 + b2)\n"
   ]
  },
  {
   "cell_type": "code",
   "execution_count": null,
   "id": "5656b8ec",
   "metadata": {},
   "outputs": [],
   "source": [
    "def get_previous_next(number):\n",
    "    \"\"\"\n",
    "    Returns the previous and next numbers of the given integer.\n",
    "    \n",
    "    Args:\n",
    "        number (int): The input integer\n",
    "    \n",
    "    Returns:\n",
    "        tuple: (previous_number, next_number)\n",
    "    \"\"\"\n",
    "    previous = number - 1\n",
    "    next_num = number + 1\n",
    "    return previous, next_num\n"
   ]
  },
  {
   "cell_type": "code",
   "execution_count": null,
   "id": "c61ed606",
   "metadata": {},
   "outputs": [],
   "source": [
    "def calculate_trip_cost(distance_km, fuel_consumption, price_per_liter):\n",
    "    \"\"\"\n",
    "    Calculates the total cost of a trip based on distance, fuel consumption, and fuel price.\n",
    "    \n",
    "    Args:\n",
    "        distance_km (float): Distance in kilometers\n",
    "        fuel_consumption (float): Fuel consumption in liters per 100km\n",
    "        price_per_liter (float): Price per liter of fuel\n",
    "    \n",
    "    Returns:\n",
    "        float: Total cost of the trip\n",
    "    \"\"\"\n",
    "    # Calculate total fuel needed\n",
    "    total_fuel = (fuel_consumption / 100) * distance_km\n",
    "    # Calculate total cost\n",
    "    total_cost = total_fuel * price_per_liter\n",
    "    return total_cost"
   ]
  }
 ],
 "metadata": {
  "kernelspec": {
   "display_name": "Python 3",
   "language": "python",
   "name": "python3"
  },
  "language_info": {
   "codemirror_mode": {
    "name": "ipython",
    "version": 3
   },
   "file_extension": ".py",
   "mimetype": "text/x-python",
   "name": "python",
   "nbconvert_exporter": "python",
   "pygments_lexer": "ipython3",
   "version": "3.13.7"
  }
 },
 "nbformat": 4,
 "nbformat_minor": 5
}
