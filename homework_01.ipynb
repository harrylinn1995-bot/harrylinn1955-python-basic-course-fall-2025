{
 "cells": [
  {
   "cell_type": "code",
   "execution_count": 2,
   "id": "a1fb3b6f",
   "metadata": {},
   "outputs": [
    {
     "name": "stdout",
     "output_type": "stream",
     "text": [
      "BMI: 22.857142857142858\n"
     ]
    }
   ],
   "source": [
    "def calculate_bmi(weight_kg, height_m):\n",
    "    \"\"\"\n",
    "    Calculates Body Mass Index (BMI).\n",
    "    \n",
    "    Args:\n",
    "        weight_kg (float): Weight in kilograms\n",
    "        height_m (float): Height in meters\n",
    "    \n",
    "    Returns:\n",
    "        float: BMI value\n",
    "    \"\"\"\n",
    "    return weight_kg / (height_m * height_m)\n",
    "result = calculate_bmi(70, 1.75)\n",
    "print(f\"BMI: {result}\")\n"
   ]
  },
  {
   "cell_type": "code",
   "execution_count": 2,
   "id": "a497719c",
   "metadata": {},
   "outputs": [
    {
     "name": "stdout",
     "output_type": "stream",
     "text": [
      "Total price including tax: $120.0\n"
     ]
    }
   ],
   "source": [
    "def calculate_total_price(price, tax_percentage):\n",
    "    \"\"\"\n",
    "    Calculates total price including tax.\n",
    "    \n",
    "    Args:\n",
    "        price (float): Original price of the product\n",
    "        tax_percentage (float): Tax percentage (e.g., 20 for 20%)\n",
    "    \n",
    "    Returns:\n",
    "        float: Total price including tax\n",
    "    \"\"\"\n",
    "    tax_amount = price * (tax_percentage / 100)\n",
    "    return price + tax_amount\n",
    "result = calculate_total_price(100, 20)\n",
    "print(f\"Total price including tax: ${result}\")\n"
   ]
  },
  {
   "cell_type": "code",
   "execution_count": 3,
   "id": "f0764ec4",
   "metadata": {},
   "outputs": [
    {
     "name": "stdout",
     "output_type": "stream",
     "text": [
      "100 dollars = 120.0 rubles\n"
     ]
    }
   ],
   "source": [
    "def convert_currency(dollars, exchange_rate):\n",
    "    \"\"\"\n",
    "    Converts dollars to rubles using given exchange rate.\n",
    "    \n",
    "    Args:\n",
    "        dollars (float): Amount in dollars\n",
    "        exchange_rate (float): Exchange rate (rubles per dollar)\n",
    "    \n",
    "    Returns:\n",
    "        float: Amount in rubles\n",
    "    \"\"\"\n",
    "    return dollars * exchange_rate\n",
    "esult = convert_currency(100, 95.5)\n",
    "print(f\"100 dollars = {result} rubles\")"
   ]
  },
  {
   "cell_type": "code",
   "execution_count": 4,
   "id": "c6302754",
   "metadata": {},
   "outputs": [
    {
     "name": "stdout",
     "output_type": "stream",
     "text": [
      "Area: 15m², Perimeter: 16m\n"
     ]
    }
   ],
   "source": [
    "def calculate_rectangle_properties(length, width):\n",
    "    area = length * width\n",
    "    perimeter = 2 * (length + width)\n",
    "    return area, perimeter\n",
    "result = calculate_rectangle_properties(5, 3)\n",
    "print(f\"Area: {result[0]}m², Perimeter: {result[1]}m\")\n"
   ]
  },
  {
   "cell_type": "code",
   "execution_count": 5,
   "id": "4ffa261b",
   "metadata": {},
   "outputs": [
    {
     "name": "stdout",
     "output_type": "stream",
     "text": [
      "Final amount: $1150.0\n"
     ]
    }
   ],
   "source": [
    "def calculate_deposit(initial_amount, annual_rate, years):\n",
    "    interest = initial_amount * (annual_rate / 100) * years\n",
    "    return initial_amount + interest\n",
    "print(f\"Final amount: ${calculate_deposit(1000, 5, 3)}\")\n"
   ]
  },
  {
   "cell_type": "code",
   "execution_count": 6,
   "id": "fcaf3781",
   "metadata": {},
   "outputs": [
    {
     "name": "stdout",
     "output_type": "stream",
     "text": [
      "1. Greeting Function:\n",
      "Hello, John!\n"
     ]
    }
   ],
   "source": [
    "def greet_user(username):\n",
    "    \"\"\"\n",
    "    Creates a greeting message for the user.\n",
    "    \n",
    "    Args:\n",
    "        username (str): The name of the user\n",
    "    \n",
    "    Returns:\n",
    "        str: Greeting message\n",
    "    \"\"\"\n",
    "    return f\"Hello, {username}!\"\n",
    "print(\"1. Greeting Function:\")\n",
    "print(greet_user(\"John\"))\n"
   ]
  },
  {
   "cell_type": "code",
   "execution_count": 7,
   "id": "09e63d61",
   "metadata": {},
   "outputs": [
    {
     "name": "stdout",
     "output_type": "stream",
     "text": [
      "\n",
      "2. Time Converter:\n",
      "2.5 hours = 150.0 minutes, 9000.0 seconds\n"
     ]
    }
   ],
   "source": [
    "def convert_time(hours):\n",
    "    \"\"\"\n",
    "    Converts hours to minutes and seconds.\n",
    "    \n",
    "    Args:\n",
    "        hours (float): Number of hours\n",
    "    \n",
    "    Returns:\n",
    "        tuple: (minutes, seconds)\n",
    "    \"\"\"\n",
    "    minutes = hours * 60\n",
    "    seconds = hours * 3600\n",
    "    return minutes, seconds\n",
    "print(\"\\n2. Time Converter:\")\n",
    "minutes, seconds = convert_time(2.5)\n",
    "print(f\"2.5 hours = {minutes} minutes, {seconds} seconds\")\n",
    "\n"
   ]
  },
  {
   "cell_type": "code",
   "execution_count": 8,
   "id": "b546022c",
   "metadata": {},
   "outputs": [
    {
     "name": "stdout",
     "output_type": "stream",
     "text": [
      "Hypotenuse of triangle with legs 3 and 4: 5.0\n"
     ]
    }
   ],
   "source": [
    "def calculate_hypotenuse(a, b):\n",
    "    \"\"\"\n",
    "    Calculates the hypotenuse of a right triangle using Pythagorean theorem.\n",
    "    \n",
    "    Args:\n",
    "        a (float): First leg of the triangle\n",
    "        b (float): Second leg of the triangle\n",
    "    \n",
    "    Returns:\n",
    "        float: Length of the hypotenuse\n",
    "    \"\"\"\n",
    "    import math\n",
    "    return math.sqrt(a**2 + b**2) \n",
    "result = calculate_hypotenuse(3, 4)\n",
    "print(f\"Hypotenuse of triangle with legs 3 and 4: {result}\")\n",
    "\n",
    "\n",
    "\n",
    "\n"
   ]
  },
  {
   "cell_type": "code",
   "execution_count": 9,
   "id": "5656b8ec",
   "metadata": {},
   "outputs": [
    {
     "name": "stdout",
     "output_type": "stream",
     "text": [
      "\n",
      "Around 0: (-1, 1)\n",
      "Around -5: (-6, -4)\n"
     ]
    }
   ],
   "source": [
    "def get_previous_next(number):\n",
    "    \"\"\"\n",
    "    Returns the previous and next numbers of the given integer.\n",
    "    \n",
    "    Args:\n",
    "        number (int): The input integer\n",
    "    \n",
    "    Returns:\n",
    "        tuple: (previous_number, next_number)\n",
    "    \"\"\"\n",
    "    previous = number - 1\n",
    "    next_num = number + 1\n",
    "    return previous, next_num\n",
    "print(f\"\\nAround 0: {get_previous_next(0)}\")\n",
    "print(f\"Around -5: {get_previous_next(-5)}\")\n",
    "\n"
   ]
  },
  {
   "cell_type": "code",
   "execution_count": 10,
   "id": "c61ed606",
   "metadata": {},
   "outputs": [
    {
     "name": "stdout",
     "output_type": "stream",
     "text": [
      "\n",
      "Short trip (50km): $6.38\n",
      "Long trip (500km): $63.75\n"
     ]
    }
   ],
   "source": [
    "def calculate_trip_cost(distance_km, fuel_consumption, price_per_liter):\n",
    "    \"\"\"\n",
    "    Calculates the total cost of a trip based on distance, fuel consumption, and fuel price.\n",
    "    \n",
    "    Args:\n",
    "        distance_km (float): Distance in kilometers\n",
    "        fuel_consumption (float): Fuel consumption in liters per 100km\n",
    "        price_per_liter (float): Price per liter of fuel\n",
    "    \n",
    "    Returns:\n",
    "        float: Total cost of the trip\n",
    "    \"\"\"\n",
    "    # Calculate total fuel needed\n",
    "    total_fuel = (fuel_consumption / 100) * distance_km\n",
    "    # Calculate total cost\n",
    "    total_cost = total_fuel * price_per_liter\n",
    "    return total_cost\n",
    "print(f\"\\nShort trip (50km): ${calculate_trip_cost(50, 8.5, 1.5):.2f}\")\n",
    "print(f\"Long trip (500km): ${calculate_trip_cost(500, 8.5, 1.5):.2f}\")"
   ]
  }
 ],
 "metadata": {
  "kernelspec": {
   "display_name": "Python 3",
   "language": "python",
   "name": "python3"
  },
  "language_info": {
   "codemirror_mode": {
    "name": "ipython",
    "version": 3
   },
   "file_extension": ".py",
   "mimetype": "text/x-python",
   "name": "python",
   "nbconvert_exporter": "python",
   "pygments_lexer": "ipython3",
   "version": "3.13.7"
  }
 },
 "nbformat": 4,
 "nbformat_minor": 5
}
