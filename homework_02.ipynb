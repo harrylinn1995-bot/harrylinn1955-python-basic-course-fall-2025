{
 "cells": [
  {
   "cell_type": "code",
   "execution_count": 3,
   "id": "0e175a7d",
   "metadata": {},
   "outputs": [
    {
     "name": "stdout",
     "output_type": "stream",
     "text": [
      "Task1 (same): Full identity\n"
     ]
    }
   ],
   "source": [
    "def analyze_identity(a, b):\n",
    "    if a is b:\n",
    "        return \"Full identity\"\n",
    "    elif a == b:\n",
    "        return \"Equality by value\"\n",
    "    else:\n",
    "        return \"Complete difference\"\n",
    "        print(\"Task1:\", analyze_identity([1,2], [1,2]))\n",
    "a = [1,2]; b = a\n",
    "print(\"Task1 (same):\", analyze_identity(a, b))"
   ]
  },
  {
   "cell_type": "code",
   "execution_count": 4,
   "id": "1425f322",
   "metadata": {},
   "outputs": [
    {
     "name": "stdout",
     "output_type": "stream",
     "text": [
      "Task2: John\n"
     ]
    }
   ],
   "source": [
    "def format_name(name_string):\n",
    "    return name_string.strip().capitalize()\n",
    "print(\"Task2:\", format_name(\" jOhN \"))\n"
   ]
  },
  {
   "cell_type": "code",
   "execution_count": 5,
   "id": "14c633f5",
   "metadata": {},
   "outputs": [
    {
     "name": "stdout",
     "output_type": "stream",
     "text": [
      "Task3: True\n",
      "Task3: False\n"
     ]
    }
   ],
   "source": [
    "def validate_email(email_string):\n",
    "    s = email_string.strip().lower()\n",
    "    if s.count('@') != 1:\n",
    "        return False\n",
    "    if s[0] == '@' or s[-1] == '@':\n",
    "        return False\n",
    "    local, domain = s.split('@')\n",
    "    if '.' not in domain:\n",
    "        return False\n",
    "    if domain[0] == '.' or domain[-1] == '.':\n",
    "        return False\n",
    "    return True\n",
    "print(\"Task3:\", validate_email(\" Example@Domain.Com \"))\n",
    "print(\"Task3:\", validate_email(\"bad@domaincom\"))"
   ]
  },
  {
   "cell_type": "code",
   "execution_count": 8,
   "id": "89b524be",
   "metadata": {},
   "outputs": [
    {
     "data": {
      "text/plain": [
       "'For 5 iterations, 5 objects will be created (a, ab, abc, abcd, abcde).'"
      ]
     },
     "execution_count": 8,
     "metadata": {},
     "output_type": "execute_result"
    }
   ],
   "source": [
    "def analyze_concatenation(n):\n",
    "    seq = []\n",
    "    for i in range(1, n+1):\n",
    "        seq.append(''.join(chr(ord('a')+j) for j in range(i)))\n",
    "    return f\"For {n} iterations, {n} objects will be created ({', '.join(seq)}).\"\n",
    "analyze_concatenation(5)"
   ]
  },
  {
   "cell_type": "code",
   "execution_count": 10,
   "id": "b464464c",
   "metadata": {},
   "outputs": [
    {
     "name": "stdout",
     "output_type": "stream",
     "text": [
      "Task5: ('Привет', 'Привет', '������')\n"
     ]
    }
   ],
   "source": [
    "def check_encoding_decoding(text):\n",
    "    cp_bytes = text.encode('cp1251')\n",
    "    correct = cp_bytes.decode('cp1251')\n",
    "    try:\n",
    "        wrong = cp_bytes.decode('utf-8')\n",
    "    except:\n",
    "        wrong = cp_bytes.decode('utf-8', errors='replace')\n",
    "    return (text, correct, wrong)\n",
    "txt = \"Привет\"\n",
    "print(\"Task5:\", check_encoding_decoding(txt))\n"
   ]
  },
  {
   "cell_type": "code",
   "execution_count": 11,
   "id": "f571b988",
   "metadata": {},
   "outputs": [
    {
     "name": "stdout",
     "output_type": "stream",
     "text": [
      "Task 1: Robot is moving.\n",
      "Task 2: Robot is moving.\n",
      "Task 3: Unknown command.\n",
      "Task 4: Unknown command.\n"
     ]
    }
   ],
   "source": [
    "def parse_robot_command(command):\n",
    "    cmd = command.strip().lower()\n",
    "\n",
    "    if cmd in (\"forward\", \"вперед\", \"backward\", \"назад\"):\n",
    "        return \"Robot is moving.\"\n",
    "    elif cmd in (\"left\", \"влево\", \"right\", \"направо\"):\n",
    "        return \"Robot is turning.\"\n",
    "    elif cmd in (\"stop\", \"стоп\"):\n",
    "        return \"Robot has stopped.\"\n",
    "    else:\n",
    "        return \"Unknown command.\"\n",
    "\n",
    "\n",
    "print(\"Task 1:\", parse_robot_command(\"Forward\"))\n",
    "print(\"Task 2:\", parse_robot_command(\"вперед\"))\n",
    "print(\"Task 3:\", parse_robot_command(\"jump\"))\n",
    "print(\"Task 4:\", parse_robot_command(\"other\"))"
   ]
  },
  {
   "cell_type": "code",
   "execution_count": 12,
   "id": "43d176c2",
   "metadata": {},
   "outputs": [
    {
     "name": "stdout",
     "output_type": "stream",
     "text": [
      "Task7 valid: True\n",
      "Task7 invalid: False\n"
     ]
    }
   ],
   "source": [
    "def is_valid_pin(pin_code):\n",
    "    if len(pin_code) not in (4, 6):\n",
    "        return False\n",
    "    for ch in pin_code:\n",
    "        if not ch.isdigit():\n",
    "            break\n",
    "    else:\n",
    "        return True\n",
    "    return False\n",
    "print(\"Task7 valid:\", is_valid_pin(\"1234\"))\n",
    "print(\"Task7 invalid:\", is_valid_pin(\"12a4\"))\n"
   ]
  },
  {
   "cell_type": "code",
   "execution_count": 13,
   "id": "7faf59ae",
   "metadata": {},
   "outputs": [
    {
     "name": "stdout",
     "output_type": "stream",
     "text": [
      "Task8: He wrd\n"
     ]
    }
   ],
   "source": [
    "def filter_text(text, stop_chars):\n",
    "    result = \"\"\n",
    "    for ch in text:\n",
    "        if ch in stop_chars:\n",
    "            continue\n",
    "        result += ch\n",
    "    return result\n",
    "print(\"Task8:\", filter_text(\"Hello, world!\", \"lo,!\"))\n"
   ]
  },
  {
   "cell_type": "code",
   "execution_count": 14,
   "id": "4ec0c340",
   "metadata": {},
   "outputs": [
    {
     "name": "stdout",
     "output_type": "stream",
     "text": [
      "Task9: Bad YXA!\n"
     ]
    }
   ],
   "source": [
    "def caesar_cipher_encoder(text):\n",
    "    result = \"\"\n",
    "    for i, ch in enumerate(text):\n",
    "        if ch.isalpha():\n",
    "            if i % 2 == 0:\n",
    "                if ch.islower():\n",
    "                    result += chr((ord(ch) - ord('a') + 1) % 26 + ord('a'))\n",
    "                else:\n",
    "                    result += chr((ord(ch) - ord('A') + 1) % 26 + ord('A'))\n",
    "            else:\n",
    "                if ch.islower():\n",
    "                    result += chr((ord(ch) - ord('a') - 1) % 26 + ord('a'))\n",
    "                else:\n",
    "                    result += chr((ord(ch) - ord('A') - 1) % 26 + ord('A'))\n",
    "        else:\n",
    "            result += ch\n",
    "    return result\n",
    "print(\"Task9:\", caesar_cipher_encoder(\"Abc XYZ!\"))"
   ]
  },
  {
   "cell_type": "code",
   "execution_count": 15,
   "id": "ca0ee749",
   "metadata": {},
   "outputs": [
    {
     "name": "stdout",
     "output_type": "stream",
     "text": [
      "Task10 strong: True\n",
      "Task10 weak: False\n"
     ]
    }
   ],
   "source": [
    "def is_strong_password(password):\n",
    "    if len(password) < 10:\n",
    "        return False\n",
    "    has_upper = any(c.isupper() for c in password)\n",
    "    has_lower = any(c.islower() for c in password)\n",
    "    has_digit = any(c.isdigit() for c in password)\n",
    "    has_special = any(c in \"!@#$%^&*()\" for c in password)\n",
    "    return has_upper and has_lower and has_digit and has_special\n",
    "print(\"Task10 strong:\", is_strong_password(\"Abcdef1!23\"))\n",
    "print(\"Task10 weak:\", is_strong_password(\"weakpass\"))"
   ]
  }
 ],
 "metadata": {
  "kernelspec": {
   "display_name": ".venv",
   "language": "python",
   "name": "python3"
  },
  "language_info": {
   "codemirror_mode": {
    "name": "ipython",
    "version": 3
   },
   "file_extension": ".py",
   "mimetype": "text/x-python",
   "name": "python",
   "nbconvert_exporter": "python",
   "pygments_lexer": "ipython3",
   "version": "3.13.7"
  }
 },
 "nbformat": 4,
 "nbformat_minor": 5
}
